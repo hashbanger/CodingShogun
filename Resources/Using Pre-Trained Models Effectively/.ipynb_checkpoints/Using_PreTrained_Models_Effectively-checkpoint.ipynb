{
 "cells": [
  {
   "cell_type": "markdown",
   "metadata": {},
   "source": [
    "# Using Pre-Trained Models Effectively"
   ]
  },
  {
   "cell_type": "markdown",
   "metadata": {},
   "source": [
    "The code Snippets for [this](using-pre-trained-models-effectively) blog  at [CodingShogun](https://codingshogun.com/)"
   ]
  },
  {
   "cell_type": "code",
   "execution_count": 15,
   "metadata": {},
   "outputs": [],
   "source": [
    "from __future__ import division\n",
    "\n",
    "import tensorflow as tf\n",
    "from tensorflow.keras.preprocessing.image import Iterator\n",
    "from tensorflow.keras.utils import to_categorical\n",
    "import tensorflow.keras.backend as K\n",
    "\n",
    "from tensorflow.keras.applications.resnet50 import ResNet50\n",
    "from tensorflow.keras.models import Model\n",
    "from tensorflow.keras.layers import Dense, Flatten, GlobalAveragePooling2D, Dropout\n",
    "from tensorflow.keras.optimizers import Adam\n",
    "from tensorflow.keras import Input"
   ]
  },
  {
   "cell_type": "code",
   "execution_count": 16,
   "metadata": {},
   "outputs": [],
   "source": [
    "# training parameters\n",
    "NB_EPOCH = 25\n",
    "NB_CLASSES = 4\n",
    "INPUT_SHAPE = (224, 224, 3)"
   ]
  },
  {
   "cell_type": "code",
   "execution_count": 17,
   "metadata": {},
   "outputs": [],
   "source": [
    "base_model = ResNet50(weights='imagenet', include_top=False,\n",
    "                              input_shape=INPUT_SHAPE)"
   ]
  },
  {
   "cell_type": "markdown",
   "metadata": {},
   "source": [
    "Checking if the base model is trainable "
   ]
  },
  {
   "cell_type": "code",
   "execution_count": 4,
   "metadata": {},
   "outputs": [
    {
     "data": {
      "text/plain": [
       "True"
      ]
     },
     "execution_count": 4,
     "metadata": {},
     "output_type": "execute_result"
    }
   ],
   "source": [
    "base_model.trainable"
   ]
  },
  {
   "cell_type": "markdown",
   "metadata": {},
   "source": [
    "Checking the layers and the number of the layers"
   ]
  },
  {
   "cell_type": "code",
   "execution_count": 18,
   "metadata": {},
   "outputs": [
    {
     "name": "stdout",
     "output_type": "stream",
     "text": [
      "Total layers:  175\n"
     ]
    },
    {
     "data": {
      "text/plain": [
       "[<tensorflow.python.keras.engine.input_layer.InputLayer at 0x7f4e10f73898>,\n",
       " <tensorflow.python.keras.layers.convolutional.ZeroPadding2D at 0x7f4e036e96a0>,\n",
       " <tensorflow.python.keras.layers.convolutional.Conv2D at 0x7f4e036e9828>,\n",
       " <tensorflow.python.keras.layers.normalization.BatchNormalization at 0x7f4e03685c18>,\n",
       " <tensorflow.python.keras.layers.core.Activation at 0x7f4e0368cb00>,\n",
       " <tensorflow.python.keras.layers.convolutional.ZeroPadding2D at 0x7f4e0368c0b8>,\n",
       " <tensorflow.python.keras.layers.pooling.MaxPooling2D at 0x7f4e0368c320>,\n",
       " <tensorflow.python.keras.layers.convolutional.Conv2D at 0x7f4e036444a8>,\n",
       " <tensorflow.python.keras.layers.normalization.BatchNormalization at 0x7f4e036bde48>,\n",
       " <tensorflow.python.keras.layers.core.Activation at 0x7f4e03671198>,\n",
       " <tensorflow.python.keras.layers.convolutional.Conv2D at 0x7f4e0366a588>,\n",
       " <tensorflow.python.keras.layers.normalization.BatchNormalization at 0x7f4e03617780>,\n",
       " <tensorflow.python.keras.layers.core.Activation at 0x7f4e0361f240>,\n",
       " <tensorflow.python.keras.layers.convolutional.Conv2D at 0x7f4e036b4c18>,\n",
       " <tensorflow.python.keras.layers.convolutional.Conv2D at 0x7f4e03617438>,\n",
       " <tensorflow.python.keras.layers.normalization.BatchNormalization at 0x7f4e036bd9e8>,\n",
       " <tensorflow.python.keras.layers.normalization.BatchNormalization at 0x7f4e035c3828>,\n",
       " <tensorflow.python.keras.layers.merge.Add at 0x7f4e035ca2e8>,\n",
       " <tensorflow.python.keras.layers.core.Activation at 0x7f4e035c34e0>,\n",
       " <tensorflow.python.keras.layers.convolutional.Conv2D at 0x7f4e035c3b70>,\n",
       " <tensorflow.python.keras.layers.normalization.BatchNormalization at 0x7f4e035f1c50>,\n",
       " <tensorflow.python.keras.layers.core.Activation at 0x7f4e035f1c18>,\n",
       " <tensorflow.python.keras.layers.convolutional.Conv2D at 0x7f4e035f1ef0>,\n",
       " <tensorflow.python.keras.layers.normalization.BatchNormalization at 0x7f4e0359bcf8>,\n",
       " <tensorflow.python.keras.layers.core.Activation at 0x7f4e0359bcc0>,\n",
       " <tensorflow.python.keras.layers.convolutional.Conv2D at 0x7f4e0359b9b0>,\n",
       " <tensorflow.python.keras.layers.normalization.BatchNormalization at 0x7f4e03548da0>,\n",
       " <tensorflow.python.keras.layers.merge.Add at 0x7f4e03548d68>,\n",
       " <tensorflow.python.keras.layers.core.Activation at 0x7f4e035520b8>,\n",
       " <tensorflow.python.keras.layers.convolutional.Conv2D at 0x7f4e03552128>,\n",
       " <tensorflow.python.keras.layers.normalization.BatchNormalization at 0x7f4e03577dd8>,\n",
       " <tensorflow.python.keras.layers.core.Activation at 0x7f4e0357dc88>,\n",
       " <tensorflow.python.keras.layers.convolutional.Conv2D at 0x7f4e0357d240>,\n",
       " <tensorflow.python.keras.layers.normalization.BatchNormalization at 0x7f4e03524dd8>,\n",
       " <tensorflow.python.keras.layers.core.Activation at 0x7f4e0352dd30>,\n",
       " <tensorflow.python.keras.layers.convolutional.Conv2D at 0x7f4e0352d0b8>,\n",
       " <tensorflow.python.keras.layers.normalization.BatchNormalization at 0x7f4e034cfe80>,\n",
       " <tensorflow.python.keras.layers.merge.Add at 0x7f4e034d9dd8>,\n",
       " <tensorflow.python.keras.layers.core.Activation at 0x7f4e034d9160>,\n",
       " <tensorflow.python.keras.layers.convolutional.Conv2D at 0x7f4e0348e240>,\n",
       " <tensorflow.python.keras.layers.normalization.BatchNormalization at 0x7f4e03484e10>,\n",
       " <tensorflow.python.keras.layers.core.Activation at 0x7f4e034b2ef0>,\n",
       " <tensorflow.python.keras.layers.convolutional.Conv2D at 0x7f4e034b2320>,\n",
       " <tensorflow.python.keras.layers.normalization.BatchNormalization at 0x7f4e03461518>,\n",
       " <tensorflow.python.keras.layers.core.Activation at 0x7f4e03461f98>,\n",
       " <tensorflow.python.keras.layers.convolutional.Conv2D at 0x7f4e034d96a0>,\n",
       " <tensorflow.python.keras.layers.convolutional.Conv2D at 0x7f4e034611d0>,\n",
       " <tensorflow.python.keras.layers.normalization.BatchNormalization at 0x7f4e03484780>,\n",
       " <tensorflow.python.keras.layers.normalization.BatchNormalization at 0x7f4e0340e5c0>,\n",
       " <tensorflow.python.keras.layers.merge.Add at 0x7f4e03416080>,\n",
       " <tensorflow.python.keras.layers.core.Activation at 0x7f4e0340e278>,\n",
       " <tensorflow.python.keras.layers.convolutional.Conv2D at 0x7f4e0340e908>,\n",
       " <tensorflow.python.keras.layers.normalization.BatchNormalization at 0x7f4e034399b0>,\n",
       " <tensorflow.python.keras.layers.core.Activation at 0x7f4e033c3470>,\n",
       " <tensorflow.python.keras.layers.convolutional.Conv2D at 0x7f4e03439668>,\n",
       " <tensorflow.python.keras.layers.normalization.BatchNormalization at 0x7f4e033e8a58>,\n",
       " <tensorflow.python.keras.layers.core.Activation at 0x7f4e033ee518>,\n",
       " <tensorflow.python.keras.layers.convolutional.Conv2D at 0x7f4e033e8710>,\n",
       " <tensorflow.python.keras.layers.normalization.BatchNormalization at 0x7f4e03396b00>,\n",
       " <tensorflow.python.keras.layers.merge.Add at 0x7f4e0339e5c0>,\n",
       " <tensorflow.python.keras.layers.core.Activation at 0x7f4e033967b8>,\n",
       " <tensorflow.python.keras.layers.convolutional.Conv2D at 0x7f4e03396f28>,\n",
       " <tensorflow.python.keras.layers.normalization.BatchNormalization at 0x7f4e03344f28>,\n",
       " <tensorflow.python.keras.layers.core.Activation at 0x7f4e03344ef0>,\n",
       " <tensorflow.python.keras.layers.convolutional.Conv2D at 0x7f4e0334b240>,\n",
       " <tensorflow.python.keras.layers.normalization.BatchNormalization at 0x7f4e03370fd0>,\n",
       " <tensorflow.python.keras.layers.core.Activation at 0x7f4e03370c88>,\n",
       " <tensorflow.python.keras.layers.convolutional.Conv2D at 0x7f4e0337a048>,\n",
       " <tensorflow.python.keras.layers.normalization.BatchNormalization at 0x7f4e0331ec88>,\n",
       " <tensorflow.python.keras.layers.merge.Add at 0x7f4e03326b38>,\n",
       " <tensorflow.python.keras.layers.core.Activation at 0x7f4e033260f0>,\n",
       " <tensorflow.python.keras.layers.convolutional.Conv2D at 0x7f4e03326400>,\n",
       " <tensorflow.python.keras.layers.normalization.BatchNormalization at 0x7f4e032cdd30>,\n",
       " <tensorflow.python.keras.layers.core.Activation at 0x7f4e032d3f60>,\n",
       " <tensorflow.python.keras.layers.convolutional.Conv2D at 0x7f4e032d3198>,\n",
       " <tensorflow.python.keras.layers.normalization.BatchNormalization at 0x7f4e03284588>,\n",
       " <tensorflow.python.keras.layers.core.Activation at 0x7f4e0328b048>,\n",
       " <tensorflow.python.keras.layers.convolutional.Conv2D at 0x7f4e03284240>,\n",
       " <tensorflow.python.keras.layers.normalization.BatchNormalization at 0x7f4e032af630>,\n",
       " <tensorflow.python.keras.layers.merge.Add at 0x7f4e032b80f0>,\n",
       " <tensorflow.python.keras.layers.core.Activation at 0x7f4e032af2e8>,\n",
       " <tensorflow.python.keras.layers.convolutional.Conv2D at 0x7f4e03263518>,\n",
       " <tensorflow.python.keras.layers.normalization.BatchNormalization at 0x7f4e0325ceb8>,\n",
       " <tensorflow.python.keras.layers.core.Activation at 0x7f4e03213208>,\n",
       " <tensorflow.python.keras.layers.convolutional.Conv2D at 0x7f4e0320b5f8>,\n",
       " <tensorflow.python.keras.layers.normalization.BatchNormalization at 0x7f4e032367f0>,\n",
       " <tensorflow.python.keras.layers.core.Activation at 0x7f4e0323e2b0>,\n",
       " <tensorflow.python.keras.layers.convolutional.Conv2D at 0x7f4e032af978>,\n",
       " <tensorflow.python.keras.layers.convolutional.Conv2D at 0x7f4e032364a8>,\n",
       " <tensorflow.python.keras.layers.normalization.BatchNormalization at 0x7f4e0325ca58>,\n",
       " <tensorflow.python.keras.layers.normalization.BatchNormalization at 0x7f4e031e6898>,\n",
       " <tensorflow.python.keras.layers.merge.Add at 0x7f4e031ef358>,\n",
       " <tensorflow.python.keras.layers.core.Activation at 0x7f4e031e6550>,\n",
       " <tensorflow.python.keras.layers.convolutional.Conv2D at 0x7f4e031e6be0>,\n",
       " <tensorflow.python.keras.layers.normalization.BatchNormalization at 0x7f4e03192cc0>,\n",
       " <tensorflow.python.keras.layers.core.Activation at 0x7f4e03192c88>,\n",
       " <tensorflow.python.keras.layers.convolutional.Conv2D at 0x7f4e03192978>,\n",
       " <tensorflow.python.keras.layers.normalization.BatchNormalization at 0x7f4e03140d68>,\n",
       " <tensorflow.python.keras.layers.core.Activation at 0x7f4e03140d30>,\n",
       " <tensorflow.python.keras.layers.convolutional.Conv2D at 0x7f4e03140a20>,\n",
       " <tensorflow.python.keras.layers.normalization.BatchNormalization at 0x7f4e0316be10>,\n",
       " <tensorflow.python.keras.layers.merge.Add at 0x7f4e0316bdd8>,\n",
       " <tensorflow.python.keras.layers.core.Activation at 0x7f4e031770f0>,\n",
       " <tensorflow.python.keras.layers.convolutional.Conv2D at 0x7f4e03177198>,\n",
       " <tensorflow.python.keras.layers.normalization.BatchNormalization at 0x7f4e0311cba8>,\n",
       " <tensorflow.python.keras.layers.core.Activation at 0x7f4e03125cf8>,\n",
       " <tensorflow.python.keras.layers.convolutional.Conv2D at 0x7f4e03125080>,\n",
       " <tensorflow.python.keras.layers.normalization.BatchNormalization at 0x7f4e030c8e48>,\n",
       " <tensorflow.python.keras.layers.core.Activation at 0x7f4e030d1da0>,\n",
       " <tensorflow.python.keras.layers.convolutional.Conv2D at 0x7f4e030d1128>,\n",
       " <tensorflow.python.keras.layers.normalization.BatchNormalization at 0x7f4e030f6ef0>,\n",
       " <tensorflow.python.keras.layers.merge.Add at 0x7f4e030ffe48>,\n",
       " <tensorflow.python.keras.layers.core.Activation at 0x7f4e030ff080>,\n",
       " <tensorflow.python.keras.layers.convolutional.Conv2D at 0x7f4e030ff710>,\n",
       " <tensorflow.python.keras.layers.normalization.BatchNormalization at 0x7f4e030ab7f0>,\n",
       " <tensorflow.python.keras.layers.core.Activation at 0x7f4e030b42b0>,\n",
       " <tensorflow.python.keras.layers.convolutional.Conv2D at 0x7f4e030ab4a8>,\n",
       " <tensorflow.python.keras.layers.normalization.BatchNormalization at 0x7f4e0305a898>,\n",
       " <tensorflow.python.keras.layers.core.Activation at 0x7f4e03063358>,\n",
       " <tensorflow.python.keras.layers.convolutional.Conv2D at 0x7f4e0305a550>,\n",
       " <tensorflow.python.keras.layers.normalization.BatchNormalization at 0x7f4e03007940>,\n",
       " <tensorflow.python.keras.layers.merge.Add at 0x7f4e0300e400>,\n",
       " <tensorflow.python.keras.layers.core.Activation at 0x7f4e030075f8>,\n",
       " <tensorflow.python.keras.layers.convolutional.Conv2D at 0x7f4e03007c88>,\n",
       " <tensorflow.python.keras.layers.normalization.BatchNormalization at 0x7f4e03034d68>,\n",
       " <tensorflow.python.keras.layers.core.Activation at 0x7f4e03034d30>,\n",
       " <tensorflow.python.keras.layers.convolutional.Conv2D at 0x7f4e03034a20>,\n",
       " <tensorflow.python.keras.layers.normalization.BatchNormalization at 0x7f4e02fe2e10>,\n",
       " <tensorflow.python.keras.layers.core.Activation at 0x7f4e02fe2dd8>,\n",
       " <tensorflow.python.keras.layers.convolutional.Conv2D at 0x7f4e02fe6128>,\n",
       " <tensorflow.python.keras.layers.normalization.BatchNormalization at 0x7f4e02f8eeb8>,\n",
       " <tensorflow.python.keras.layers.merge.Add at 0x7f4e02f8ee80>,\n",
       " <tensorflow.python.keras.layers.core.Activation at 0x7f4e02f981d0>,\n",
       " <tensorflow.python.keras.layers.convolutional.Conv2D at 0x7f4e1026d7b8>,\n",
       " <tensorflow.python.keras.layers.normalization.BatchNormalization at 0x7f4e102760b8>,\n",
       " <tensorflow.python.keras.layers.core.Activation at 0x7f4e02f47048>,\n",
       " <tensorflow.python.keras.layers.convolutional.Conv2D at 0x7f4e02fba1d0>,\n",
       " <tensorflow.python.keras.layers.normalization.BatchNormalization at 0x7f4e02f6c710>,\n",
       " <tensorflow.python.keras.layers.core.Activation at 0x7f4e02f6c6d8>,\n",
       " <tensorflow.python.keras.layers.convolutional.Conv2D at 0x7f4e02f6ca58>,\n",
       " <tensorflow.python.keras.layers.normalization.BatchNormalization at 0x7f4e02f198d0>,\n",
       " <tensorflow.python.keras.layers.merge.Add at 0x7f4e02f19898>,\n",
       " <tensorflow.python.keras.layers.core.Activation at 0x7f4e02f19c18>,\n",
       " <tensorflow.python.keras.layers.convolutional.Conv2D at 0x7f4e02ec6dd8>,\n",
       " <tensorflow.python.keras.layers.normalization.BatchNormalization at 0x7f4e02ece908>,\n",
       " <tensorflow.python.keras.layers.core.Activation at 0x7f4e02ef1c18>,\n",
       " <tensorflow.python.keras.layers.convolutional.Conv2D at 0x7f4e02ef1ef0>,\n",
       " <tensorflow.python.keras.layers.normalization.BatchNormalization at 0x7f4e02e9ddd8>,\n",
       " <tensorflow.python.keras.layers.core.Activation at 0x7f4e02e9dda0>,\n",
       " <tensorflow.python.keras.layers.convolutional.Conv2D at 0x7f4e02f19cc0>,\n",
       " <tensorflow.python.keras.layers.convolutional.Conv2D at 0x7f4e02ea70f0>,\n",
       " <tensorflow.python.keras.layers.normalization.BatchNormalization at 0x7f4e02ec6e10>,\n",
       " <tensorflow.python.keras.layers.normalization.BatchNormalization at 0x7f4e02e4bf98>,\n",
       " <tensorflow.python.keras.layers.merge.Add at 0x7f4e02e4bf60>,\n",
       " <tensorflow.python.keras.layers.core.Activation at 0x7f4e02e52048>,\n",
       " <tensorflow.python.keras.layers.convolutional.Conv2D at 0x7f4e02e52320>,\n",
       " <tensorflow.python.keras.layers.normalization.BatchNormalization at 0x7f4e02e78d68>,\n",
       " <tensorflow.python.keras.layers.core.Activation at 0x7f4e02e07048>,\n",
       " <tensorflow.python.keras.layers.convolutional.Conv2D at 0x7f4e02e001d0>,\n",
       " <tensorflow.python.keras.layers.normalization.BatchNormalization at 0x7f4e02e2e710>,\n",
       " <tensorflow.python.keras.layers.core.Activation at 0x7f4e02e2e6d8>,\n",
       " <tensorflow.python.keras.layers.convolutional.Conv2D at 0x7f4e02e2ea58>,\n",
       " <tensorflow.python.keras.layers.normalization.BatchNormalization at 0x7f4e02dd98d0>,\n",
       " <tensorflow.python.keras.layers.merge.Add at 0x7f4e02dd9898>,\n",
       " <tensorflow.python.keras.layers.core.Activation at 0x7f4e02dd9c18>,\n",
       " <tensorflow.python.keras.layers.convolutional.Conv2D at 0x7f4e02dd9cc0>,\n",
       " <tensorflow.python.keras.layers.normalization.BatchNormalization at 0x7f4e02d85e10>,\n",
       " <tensorflow.python.keras.layers.core.Activation at 0x7f4e02d85dd8>,\n",
       " <tensorflow.python.keras.layers.convolutional.Conv2D at 0x7f4e02d904e0>,\n",
       " <tensorflow.python.keras.layers.normalization.BatchNormalization at 0x7f4e02db5c18>,\n",
       " <tensorflow.python.keras.layers.core.Activation at 0x7f4e02db5fd0>,\n",
       " <tensorflow.python.keras.layers.convolutional.Conv2D at 0x7f4e02dbb048>,\n",
       " <tensorflow.python.keras.layers.normalization.BatchNormalization at 0x7f4e02d61dd8>,\n",
       " <tensorflow.python.keras.layers.merge.Add at 0x7f4e02d69cc0>,\n",
       " <tensorflow.python.keras.layers.core.Activation at 0x7f4e02d69240>]"
      ]
     },
     "execution_count": 18,
     "metadata": {},
     "output_type": "execute_result"
    }
   ],
   "source": [
    "print(\"Total layers: \",len(base_model.layers))\n",
    "base_model.layers"
   ]
  },
  {
   "cell_type": "markdown",
   "metadata": {},
   "source": [
    "Checking if a specific layer is trainable or not"
   ]
  },
  {
   "cell_type": "code",
   "execution_count": 6,
   "metadata": {},
   "outputs": [
    {
     "data": {
      "text/plain": [
       "True"
      ]
     },
     "execution_count": 6,
     "metadata": {},
     "output_type": "execute_result"
    }
   ],
   "source": [
    "base_model.layers[0].trainable"
   ]
  },
  {
   "cell_type": "markdown",
   "metadata": {},
   "source": [
    "#### Frozen Base Model with no added capacity"
   ]
  },
  {
   "cell_type": "code",
   "execution_count": 7,
   "metadata": {},
   "outputs": [],
   "source": [
    "class ResNet():\n",
    "    '''\n",
    "    This class creates the ResNet model.\n",
    "    '''\n",
    "    def __init__(self, input_shape, nb_classes):\n",
    "        self.input_shape = input_shape\n",
    "        self.nb_classes = nb_classes\n",
    "        \n",
    "    def get_model(self, unfreeze_layers = None, lr_rate = 0.001):\n",
    "        # load base model\n",
    "        base_model = ResNet50(weights='imagenet', include_top=False,\n",
    "                              input_shape=self.input_shape)\n",
    "\n",
    "        for layer in (base_model.layers) if not unfreeze_layers else (base_model.layers[:-int(unfreeze_layers)]):\n",
    "            layer.trainable = False\n",
    "\n",
    "        # METHOD 2\n",
    "        inputs = Input(shape=self.input_shape)\n",
    "        x = base_model(inputs, training=False)\n",
    "        x = GlobalAveragePooling2D()(x)\n",
    "        outputs = Dense(self.nb_classes, activation='softmax')(x)\n",
    "        model = Model(inputs, outputs)\n",
    "        \n",
    "        # model compilation\n",
    "        optimizer = Adam(learning_rate=lr_rate)\n",
    "        model.compile(loss='categorical_crossentropy', optimizer= optimizer, metrics=['accuracy'])\n",
    "        \n",
    "        return model"
   ]
  },
  {
   "cell_type": "code",
   "execution_count": 8,
   "metadata": {},
   "outputs": [
    {
     "name": "stdout",
     "output_type": "stream",
     "text": [
      "Model: \"model\"\n",
      "_________________________________________________________________\n",
      "Layer (type)                 Output Shape              Param #   \n",
      "=================================================================\n",
      "input_3 (InputLayer)         [(None, 224, 224, 3)]     0         \n",
      "_________________________________________________________________\n",
      "resnet50 (Model)             (None, 7, 7, 2048)        23587712  \n",
      "_________________________________________________________________\n",
      "global_average_pooling2d (Gl (None, 2048)              0         \n",
      "_________________________________________________________________\n",
      "dense (Dense)                (None, 4)                 8196      \n",
      "=================================================================\n",
      "Total params: 23,595,908\n",
      "Trainable params: 8,196\n",
      "Non-trainable params: 23,587,712\n",
      "_________________________________________________________________\n"
     ]
    }
   ],
   "source": [
    "# creating a resnet class object\n",
    "resnet = ResNet(INPUT_SHAPE, NB_CLASSES)\n",
    "# getting the resnet model\n",
    "model = resnet.get_model(unfreeze_layers= None)\n",
    "model.summary()"
   ]
  },
  {
   "cell_type": "markdown",
   "metadata": {},
   "source": [
    "#### Frozen Model with added capacity"
   ]
  },
  {
   "cell_type": "code",
   "execution_count": 9,
   "metadata": {},
   "outputs": [],
   "source": [
    "class ResNet():\n",
    "    '''\n",
    "    This class creates the ResNet model.\n",
    "    '''\n",
    "    def __init__(self, input_shape, nb_classes):\n",
    "        self.input_shape = input_shape\n",
    "        self.nb_classes = nb_classes\n",
    "        \n",
    "    def get_model(self, unfreeze_layers = None, lr_rate = 0.001):\n",
    "        # load base model\n",
    "        base_model = ResNet50(weights='imagenet', include_top=False,\n",
    "                              input_shape=self.input_shape)\n",
    "\n",
    "        for layer in (base_model.layers) if not unfreeze_layers else (base_model.layers[:-int(unfreeze_layers)]):\n",
    "            layer.trainable = False\n",
    "\n",
    "        # METHOD 2\n",
    "        inputs = Input(shape=self.input_shape)\n",
    "        x = base_model(inputs, training=False)\n",
    "        x = GlobalAveragePooling2D()(x)\n",
    "        x = Dropout(0.2)(x)\n",
    "        x = Dense(256, activation='relu')(x)\n",
    "        outputs = Dense(self.nb_classes, activation='softmax')(x)\n",
    "        model = Model(inputs, outputs)\n",
    "        \n",
    "        # model compilation\n",
    "        optimizer = Adam(learning_rate=lr_rate)\n",
    "        model.compile(loss='categorical_crossentropy', optimizer= optimizer, metrics=['accuracy'])\n",
    "        \n",
    "        return model"
   ]
  },
  {
   "cell_type": "code",
   "execution_count": 12,
   "metadata": {},
   "outputs": [
    {
     "name": "stdout",
     "output_type": "stream",
     "text": [
      "Model: \"model_1\"\n",
      "_________________________________________________________________\n",
      "Layer (type)                 Output Shape              Param #   \n",
      "=================================================================\n",
      "input_5 (InputLayer)         [(None, 224, 224, 3)]     0         \n",
      "_________________________________________________________________\n",
      "resnet50 (Model)             (None, 7, 7, 2048)        23587712  \n",
      "_________________________________________________________________\n",
      "global_average_pooling2d_1 ( (None, 2048)              0         \n",
      "_________________________________________________________________\n",
      "dropout (Dropout)            (None, 2048)              0         \n",
      "_________________________________________________________________\n",
      "dense_1 (Dense)              (None, 256)               524544    \n",
      "_________________________________________________________________\n",
      "dense_2 (Dense)              (None, 4)                 1028      \n",
      "=================================================================\n",
      "Total params: 24,113,284\n",
      "Trainable params: 525,572\n",
      "Non-trainable params: 23,587,712\n",
      "_________________________________________________________________\n"
     ]
    }
   ],
   "source": [
    "# creating a resnet class object\n",
    "resnet = ResNet(INPUT_SHAPE, NB_CLASSES)\n",
    "# getting the resnet model\n",
    "model = resnet.get_model(unfreeze_layers= None)\n",
    "model.summary()"
   ]
  },
  {
   "cell_type": "markdown",
   "metadata": {},
   "source": [
    "#### Partly Unfrozen model with additional capacity"
   ]
  },
  {
   "cell_type": "code",
   "execution_count": 13,
   "metadata": {},
   "outputs": [
    {
     "name": "stdout",
     "output_type": "stream",
     "text": [
      "Model: \"model_2\"\n",
      "_________________________________________________________________\n",
      "Layer (type)                 Output Shape              Param #   \n",
      "=================================================================\n",
      "input_7 (InputLayer)         [(None, 224, 224, 3)]     0         \n",
      "_________________________________________________________________\n",
      "resnet50 (Model)             (None, 7, 7, 2048)        23587712  \n",
      "_________________________________________________________________\n",
      "global_average_pooling2d_2 ( (None, 2048)              0         \n",
      "_________________________________________________________________\n",
      "dropout_1 (Dropout)          (None, 2048)              0         \n",
      "_________________________________________________________________\n",
      "dense_3 (Dense)              (None, 256)               524544    \n",
      "_________________________________________________________________\n",
      "dense_4 (Dense)              (None, 4)                 1028      \n",
      "=================================================================\n",
      "Total params: 24,113,284\n",
      "Trainable params: 1,580,292\n",
      "Non-trainable params: 22,532,992\n",
      "_________________________________________________________________\n"
     ]
    }
   ],
   "source": [
    "# creating a resnet class object\n",
    "resnet = ResNet(INPUT_SHAPE, NB_CLASSES)\n",
    "# getting the resnet model\n",
    "model = resnet.get_model(unfreeze_layers= 5)\n",
    "model.summary()"
   ]
  },
  {
   "cell_type": "markdown",
   "metadata": {},
   "source": [
    "### *de nada!*"
   ]
  }
 ],
 "metadata": {
  "kernelspec": {
   "display_name": "conda_tensorflow2_p36",
   "language": "python",
   "name": "conda_tensorflow2_p36"
  },
  "language_info": {
   "codemirror_mode": {
    "name": "ipython",
    "version": 3
   },
   "file_extension": ".py",
   "mimetype": "text/x-python",
   "name": "python",
   "nbconvert_exporter": "python",
   "pygments_lexer": "ipython3",
   "version": "3.6.10"
  }
 },
 "nbformat": 4,
 "nbformat_minor": 4
}
